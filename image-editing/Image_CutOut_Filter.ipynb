{
  "nbformat": 4,
  "nbformat_minor": 0,
  "metadata": {
    "colab": {
      "provenance": [],
      "authorship_tag": "ABX9TyMFgAhODwvpTE6y5DMzsZpp",
      "include_colab_link": true
    },
    "kernelspec": {
      "name": "python3",
      "display_name": "Python 3"
    },
    "language_info": {
      "name": "python"
    }
  },
  "cells": [
    {
      "cell_type": "markdown",
      "metadata": {
        "id": "view-in-github",
        "colab_type": "text"
      },
      "source": [
        "<a href=\"https://colab.research.google.com/github/ritwikraha/computer-needs-glasses/blob/master/image-editing/Image_CutOut_Filter.ipynb\" target=\"_parent\"><img src=\"https://colab.research.google.com/assets/colab-badge.svg\" alt=\"Open In Colab\"/></a>"
      ]
    },
    {
      "cell_type": "markdown",
      "source": [
        "# Image Processing with Clustering and Contours\n",
        "\n",
        "This notebook implements an image processing algorithm that uses KMeans clustering to reduce the color palette of an image, finds contours of these color regions, and then redraws the image with these simplified colors and contours. It's a form of artistic filter that can create interesting visual effects.\n",
        "\n",
        "First, let's import the necessary libraries.\n",
        "\n",
        "Code is adapted from: https://gist.github.com/TACIXAT/c25dd24f9af40e5cd0ff91a3178c4dcb\n"
      ],
      "metadata": {
        "id": "veePn7KRt8-y"
      }
    },
    {
      "cell_type": "code",
      "execution_count": null,
      "metadata": {
        "id": "_veAuD0dttBq"
      },
      "outputs": [],
      "source": [
        "!pip install opencv-python-headless scikit-learn matplotlib numpy -qq"
      ]
    },
    {
      "cell_type": "code",
      "source": [
        "import cv2\n",
        "from sklearn.cluster import KMeans\n",
        "import matplotlib.pyplot as plt\n",
        "import numpy as np\n",
        "import random"
      ],
      "metadata": {
        "id": "PW9DRcVtt2gu"
      },
      "execution_count": null,
      "outputs": []
    },
    {
      "cell_type": "markdown",
      "source": [
        "## Function Definitions\n",
        "\n",
        "Now, we define several functions that will be used in the processing pipeline. These include functions for displaying images, clustering color spaces, remapping colors, and finding contours.\n"
      ],
      "metadata": {
        "id": "GNq75rnbt6RR"
      }
    },
    {
      "cell_type": "code",
      "source": [
        "def show(im):\n",
        "    im = cv2.cvtColor(im, cv2.COLOR_BGR2RGB)\n",
        "    plt.figure()\n",
        "    plt.axis(\"off\")\n",
        "    plt.imshow(im)\n",
        "    wm = plt.get_current_fig_manager()\n",
        "    wm.window.state('zoomed')\n",
        "    plt.show()\n",
        "\n",
        "def cluster(im, n_clusters):\n",
        "    im = im.reshape((im.shape[0] * im.shape[1], 3))\n",
        "    km = KMeans(n_clusters=n_clusters, random_state=0)\n",
        "    km.fit(im)\n",
        "    # Additional code remains unchanged\n",
        "    return km.cluster_centers_, km.labels_\n",
        "\n",
        "def remap_colors(im, reps, labels):\n",
        "\torig_shape = im.shape\n",
        "\tim = im.reshape((im.shape[0] * im.shape[1], 3))\n",
        "\tfor i in range(len(im)):\n",
        "\t\tim[i] = reps[labels[i]]\n",
        "\treturn im.reshape(orig_shape)\n",
        "\n",
        "def find_contours(im, reps, min_area):\n",
        "\tcontours = []\n",
        "\tfor rep in reps:\n",
        "\t\tmask = cv2.inRange(im, rep-1, rep+1)\n",
        "\t\t# show(mask)\n",
        "\t\tconts, _ = cv2.findContours(\n",
        "\t\t\tmask, cv2.RETR_TREE, cv2.CHAIN_APPROX_NONE)\n",
        "\t\tfor cont in conts:\n",
        "\t\t\tarea = cv2.contourArea(cont)\n",
        "\t\t\tif area >= min_area:\n",
        "\t\t\t\tcontours.append((area, cont, rep))\n",
        "\tcontours.sort(key=lambda x: x[0], reverse=True)\n",
        "\treturn contours"
      ],
      "metadata": {
        "id": "DAvAzNE_t4Vg"
      },
      "execution_count": null,
      "outputs": []
    },
    {
      "cell_type": "markdown",
      "source": [
        "## User Inputs\n",
        "\n",
        "Please specify the input parameters for the image processing. You can adjust the number of clusters, the size of the blur kernel, and other parameters to see how they affect the output.\n"
      ],
      "metadata": {
        "id": "jEgc0eemuMB2"
      }
    },
    {
      "cell_type": "code",
      "source": [
        "#@title Image Processing Parameters\n",
        "\n",
        "in_file = \"\" #@param {type:\"string\"}\n",
        "out_file = \"\" #@param {type:\"string\"}\n",
        "n_clusters = 3 #@param {type:\"integer\"}\n",
        "blur_kernel = 5 #@param {type:\"slider\", min:1, max:21, step:2}\n",
        "min_area = 50 #@param {type:\"integer\"}\n",
        "poly_epsilon = 10.0 #@param {type:\"number\"}\n",
        "quiet = False #@param {type:\"boolean\"}\n",
        "final_blur = False #@param {type:\"boolean\"}\n",
        "slice = False #@param {type:\"boolean\"}\n",
        "\n",
        "# Include validation for `blur_kernel` and `min_area` here if necessary.\n"
      ],
      "metadata": {
        "id": "95K2hv1MuOYG"
      },
      "execution_count": null,
      "outputs": []
    },
    {
      "cell_type": "markdown",
      "source": [
        "## Main Processing Code\n",
        "\n",
        "With all functions defined and parameters set, let's process the image according to the provided parameters.\n"
      ],
      "metadata": {
        "id": "qXmKGM6uuStK"
      }
    },
    {
      "cell_type": "code",
      "source": [
        "def process_image(in_file, out_file, n_clusters, blur_kernel, min_area, poly_epsilon, quiet, final_blur, slice):\n",
        "    if blur_kernel % 2 != 1:\n",
        "        print('-blur-kernel must be an odd number')\n",
        "        return\n",
        "\n",
        "    if min_area < 1:\n",
        "        print('-min-area must be at least 1')\n",
        "        return\n",
        "\n",
        "    if not quiet:\n",
        "        print(f'Reading file {in_file}...')\n",
        "\n",
        "    orig = cv2.imread(in_file)\n",
        "    im = orig.copy()\n",
        "\n",
        "    if not quiet:\n",
        "        print(f'Blurring with size {blur_kernel}...')\n",
        "\n",
        "    im = cv2.GaussianBlur(im, (blur_kernel, blur_kernel), 0)\n",
        "\n",
        "    if not quiet:\n",
        "        print(f'Clustering around {n_clusters} colors...')\n",
        "\n",
        "    reps, labels = cluster(im, n_clusters)\n",
        "\n",
        "    if not quiet:\n",
        "        print('Remapping image to representative colors...')\n",
        "\n",
        "    im = remap_colors(im, reps, labels)\n",
        "\n",
        "    if not quiet:\n",
        "        print(f'Finding contours with area gte {min_area}...')\n",
        "\n",
        "    contours = find_contours(im, reps, min_area)\n",
        "\n",
        "    if not quiet:\n",
        "        print(f'Drawing...')\n",
        "\n",
        "    canvas = np.zeros(orig.shape, np.uint8)\n",
        "    for area, cont, rep in contours:\n",
        "        approx = cv2.approxPolyDP(cont, poly_epsilon, True)\n",
        "        cv2.drawContours(canvas, [approx], -1, rep, -1)\n",
        "\n",
        "    if final_blur:\n",
        "        canvas = cv2.GaussianBlur(canvas, (3, 3), 0)\n",
        "\n",
        "    if out_file is None or out_file == \"\":\n",
        "        show(canvas)\n",
        "    else:\n",
        "        cv2.imwrite(out_file, canvas)\n",
        "\n",
        "        if slice:\n",
        "            toks = out_file.split('.')\n",
        "            ext = toks.pop()\n",
        "            pre = '.'.join(toks)\n",
        "\n",
        "            count = 0\n",
        "            for rep in reps:\n",
        "                mask = cv2.inRange(canvas, rep-1, rep+1)\n",
        "                cv2.imwrite(f'{pre}.{count}.{ext}', mask)\n",
        "                count += 1\n",
        "\n"
      ],
      "metadata": {
        "id": "l5HMj426uQrN"
      },
      "execution_count": null,
      "outputs": []
    },
    {
      "cell_type": "code",
      "source": [
        "# Call process_image with the parameters from the form fields\n",
        "process_image(in_file, out_file, n_clusters, blur_kernel, min_area, poly_epsilon, quiet, final_blur, slice)"
      ],
      "metadata": {
        "id": "Gt0JxAKxvFs-"
      },
      "execution_count": null,
      "outputs": []
    }
  ]
}
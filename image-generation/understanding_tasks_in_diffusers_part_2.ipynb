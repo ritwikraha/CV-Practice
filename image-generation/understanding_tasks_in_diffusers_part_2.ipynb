{
  "nbformat": 4,
  "nbformat_minor": 0,
  "metadata": {
    "colab": {
      "provenance": [],
      "authorship_tag": "ABX9TyM5cdZ8Rg5oHSp2KSrdWX6V",
      "include_colab_link": true
    },
    "kernelspec": {
      "name": "python3",
      "display_name": "Python 3"
    },
    "language_info": {
      "name": "python"
    }
  },
  "cells": [
    {
      "cell_type": "markdown",
      "metadata": {
        "id": "view-in-github",
        "colab_type": "text"
      },
      "source": [
        "<a href=\"https://colab.research.google.com/github/ritwikraha/computer-needs-glasses/blob/master/image-generation/understanding_tasks_in_diffusers_part_2.ipynb\" target=\"_parent\"><img src=\"https://colab.research.google.com/assets/colab-badge.svg\" alt=\"Open In Colab\"/></a>"
      ]
    },
    {
      "cell_type": "markdown",
      "source": [
        "# Understanding Tasks in Diffusers Part 2\n",
        "\n",
        "This tutorial is completely inspired drom the [beautiful documentation](https://huggingface.co/docs/diffusers/en/using-diffusers/inpaint?regular-specific=runwayml%2Fstable-diffusion-v1-5#inpainting) at HuggingFace Diffusers."
      ],
      "metadata": {
        "id": "Qf-AP8a08UPg"
      }
    },
    {
      "cell_type": "markdown",
      "source": [
        "### Setup and Imports"
      ],
      "metadata": {
        "id": "ts3138Kr4mnF"
      }
    },
    {
      "cell_type": "code",
      "execution_count": null,
      "metadata": {
        "id": "7FChsbVZu3Q2"
      },
      "outputs": [],
      "source": [
        "!pip install -qq diffusers accelerate"
      ]
    },
    {
      "cell_type": "code",
      "source": [
        "import torch\n",
        "import numpy as np\n",
        "import cv2\n",
        "import matplotlib as plt\n",
        "from diffusers import AutoPipelineForText2Image, AutoPipelineForInpainting, ControlNetModel, StableDiffusionControlNetInpaintPipeline\n",
        "from diffusers.utils import load_image, make_image_grid"
      ],
      "metadata": {
        "id": "mprflWdZwOrq"
      },
      "execution_count": null,
      "outputs": []
    },
    {
      "cell_type": "markdown",
      "source": [
        "### Loading the image and masks"
      ],
      "metadata": {
        "id": "XrVQIDiY4p71"
      }
    },
    {
      "cell_type": "code",
      "source": [
        "device = \"cuda\" if torch.cuda.is_available() else \"cpu\"\n",
        "generator = torch.Generator(device).manual_seed(31)"
      ],
      "metadata": {
        "id": "czdjnuNtwf2H"
      },
      "execution_count": null,
      "outputs": []
    },
    {
      "cell_type": "code",
      "source": [
        "init_image = load_image(\"https://i.imgur.com/UjAIycp.png\")\n",
        "mask_image = load_image(\"https://i.imgur.com/JMHtoZE.png\")"
      ],
      "metadata": {
        "id": "Z5uslkcXw0Nx"
      },
      "execution_count": null,
      "outputs": []
    },
    {
      "cell_type": "code",
      "source": [
        "model_id = \"kandinsky-community/kandinsky-2-2-decoder-inpaint\"\n",
        "\n",
        "pipeline = AutoPipelineForInpainting.from_pretrained(\n",
        "    model_id, torch_dtype=torch.float16\n",
        ").to(device)"
      ],
      "metadata": {
        "id": "QmvpmXqfwNO_"
      },
      "execution_count": null,
      "outputs": []
    },
    {
      "cell_type": "code",
      "source": [
        "prompt = \"a peepal tree, illustrated, cute, pixar, disney, 8k\"\n",
        "negative_prompt = \"bad anatomy, deformed, ugly, disfigured\""
      ],
      "metadata": {
        "id": "Feml--Y_3eBe"
      },
      "execution_count": null,
      "outputs": []
    },
    {
      "cell_type": "code",
      "source": [
        "image = pipeline(prompt=prompt,\n",
        "                 negative_prompt=negative_prompt,\n",
        "                 image=init_image,\n",
        "                 mask_image=mask_image,\n",
        "                 generator=generator).images[0]\n",
        "\n",
        "make_image_grid([init_image, mask_image, image], rows=1, cols=3)"
      ],
      "metadata": {
        "id": "O8mqBzrs0Kl0"
      },
      "execution_count": null,
      "outputs": []
    },
    {
      "cell_type": "markdown",
      "source": [
        "####  Blurring the Mask Area"
      ],
      "metadata": {
        "id": "bjxtwueg5JHq"
      }
    },
    {
      "cell_type": "code",
      "source": [
        "blurred_mask = pipeline.mask_processor.blur(mask, blur_factor=33)\n",
        "blurred_mask"
      ],
      "metadata": {
        "id": "rgKbWCWQ3cgp"
      },
      "execution_count": null,
      "outputs": []
    },
    {
      "cell_type": "code",
      "source": [
        "image = pipeline(prompt=prompt,\n",
        "                 negative_prompt=negative_prompt,\n",
        "                 image=init_image,\n",
        "                 mask_image=blurred_mask,\n",
        "                 generator=generator).images[0]\n",
        "\n",
        "make_image_grid([init_image, mask_image, image], rows=1, cols=3)"
      ],
      "metadata": {
        "id": "8VHKfDxs3fVS"
      },
      "execution_count": null,
      "outputs": []
    },
    {
      "cell_type": "code",
      "source": [
        "pipeline.to(\"cpu\")\n",
        "del pipeline\n",
        "torch.cuda.empty_cache()"
      ],
      "metadata": {
        "id": "yayOZXTH7KKG"
      },
      "execution_count": null,
      "outputs": []
    },
    {
      "cell_type": "markdown",
      "source": [
        "### SDXl for inpainting"
      ],
      "metadata": {
        "id": "CCcL01hV5S1C"
      }
    },
    {
      "cell_type": "code",
      "source": [
        "pipeline = AutoPipelineForInpainting.from_pretrained(\n",
        "    \"diffusers/stable-diffusion-xl-1.0-inpainting-0.1\", torch_dtype=torch.float16, variant=\"fp16\"\n",
        ")\n",
        "\n",
        "prompt = \"concept art of a small haunted cottage in the middle of a wheatfield, stephen king, horror, sinister, 8k\"\n",
        "negative_prompt = \"bad anatomy, deformed, ugly, disfigured\"\n"
      ],
      "metadata": {
        "id": "AmXOhqg23reJ"
      },
      "execution_count": null,
      "outputs": []
    },
    {
      "cell_type": "code",
      "source": [
        "image = pipeline(prompt=prompt,\n",
        "                 negative_prompt=negative_prompt,\n",
        "                 image=init_image,\n",
        "                 mask_image=mask_image,\n",
        "                 generator=generator).images[0]\n",
        "\n",
        "make_image_grid([init_image, mask_image, image], rows=1, cols=3)"
      ],
      "metadata": {
        "id": "vZP_Z0wG4J0E"
      },
      "execution_count": null,
      "outputs": []
    },
    {
      "cell_type": "code",
      "source": [
        "pipeline.to(\"cpu\")\n",
        "del pipeline\n",
        "torch.cuda.empty_cache()"
      ],
      "metadata": {
        "id": "67BhTc5K7K_y"
      },
      "execution_count": null,
      "outputs": []
    },
    {
      "cell_type": "markdown",
      "source": [
        "### Preserving Unmasked Area"
      ],
      "metadata": {
        "id": "KXTifV1B5WOv"
      }
    },
    {
      "cell_type": "code",
      "source": [
        "model_id = \"runwayml/stable-diffusion-inpainting\"\n",
        "pipeline = AutoPipelineForInpainting.from_pretrained(\n",
        "    \"runwayml/stable-diffusion-inpainting\",\n",
        "    torch_dtype=torch.float16,\n",
        ").to(device)"
      ],
      "metadata": {
        "id": "m2Be3AC55vZb"
      },
      "execution_count": null,
      "outputs": []
    },
    {
      "cell_type": "code",
      "source": [
        "prompt = \"concept art of a small haunted cottage in the middle of a wheatfield, stephen king, horror, sinister, 8k\"\n",
        "inpainted_image = pipeline(prompt=prompt,\n",
        "                           image=init_image,\n",
        "                           mask_image=mask_image).images[0]"
      ],
      "metadata": {
        "id": "vNk-KP4I5Z3H"
      },
      "execution_count": null,
      "outputs": []
    },
    {
      "cell_type": "code",
      "source": [
        "unmasked_unchanged_image = pipeline.image_processor.apply_overlay(mask_image,\n",
        "                                                                  init_image,\n",
        "                                                                  inpainted_image)\n",
        "make_image_grid([init_image, mask_image, repainted_image, unmasked_unchanged_image], rows=2, cols=2)"
      ],
      "metadata": {
        "id": "udQhrv3Y6b5G"
      },
      "execution_count": null,
      "outputs": []
    },
    {
      "cell_type": "code",
      "source": [
        "pipeline.to(\"cpu\")\n",
        "del pipeline\n",
        "torch.cuda.empty_cache()"
      ],
      "metadata": {
        "id": "mbCuCAli7MSw"
      },
      "execution_count": null,
      "outputs": []
    },
    {
      "cell_type": "markdown",
      "source": [
        "### Pipeline Parameters\n",
        "\n",
        "- Strength\n",
        "- Guidance Scale\n",
        "- Negative Prompt\n",
        "- Padding Mask Crop"
      ],
      "metadata": {
        "id": "uksl_w6Q6wC8"
      }
    },
    {
      "cell_type": "code",
      "source": [
        "model_id = \"runwayml/stable-diffusion-inpainting\"\n",
        "pipeline = AutoPipelineForInpainting.from_pretrained(\n",
        "    model_id, torch_dtype=torch.float16, variant=\"fp16\"\n",
        ")"
      ],
      "metadata": {
        "id": "p5JiVF627QFf"
      },
      "execution_count": null,
      "outputs": []
    },
    {
      "cell_type": "code",
      "source": [
        "prompt = \"a huge easter bunny, cute, adorable, pixar, disney, 8k\"\n",
        "negative_prompt = \"bad anatomy, deformed, ugly, disfigured\""
      ],
      "metadata": {
        "id": "5cnlsLEz7WXV"
      },
      "execution_count": null,
      "outputs": []
    },
    {
      "cell_type": "code",
      "source": [
        "image = pipeline(prompt=prompt,\n",
        "                 negative_prompt=negative_prompt,\n",
        "                 image=init_image,\n",
        "                 mask_image=mask_image,\n",
        "                 strength=0.6,\n",
        "                 guidance_scale=2.5,\n",
        "                 padding_mask_crop=32).images[0]\n",
        "make_image_grid([init_image, mask_image, image], rows=1, cols=3)"
      ],
      "metadata": {
        "id": "J9QziIrf6zaX"
      },
      "execution_count": null,
      "outputs": []
    },
    {
      "cell_type": "code",
      "source": [
        "pipeline.to(\"cpu\")\n",
        "del pipeline\n",
        "torch.cuda.empty_cache()"
      ],
      "metadata": {
        "id": "vCznfzdh8THU"
      },
      "execution_count": null,
      "outputs": []
    },
    {
      "cell_type": "markdown",
      "source": [
        "### Chained Inpainting\n",
        "\n",
        "- Text2Image -> Inpainting"
      ],
      "metadata": {
        "id": "DkqtQ1cmAzTc"
      }
    },
    {
      "cell_type": "code",
      "source": [
        "model_id = \"runwayml/stable-diffusion-inpainting\"\n",
        "pipeline = AutoPipelineForText2Image.from_pretrained(\n",
        "    model_id, torch_dtype=torch.float16, variant=\"fp16\", use_safetensors=True\n",
        ")\n",
        "\n",
        "\n",
        "text2image = pipeline(\"illustration of the hogwarts express going on a bridge, highly detailed, 8k\").images[0]\n",
        "text2image.resize((512, 512))"
      ],
      "metadata": {
        "id": "37JEqxFS8tlp"
      },
      "execution_count": null,
      "outputs": []
    },
    {
      "cell_type": "code",
      "source": [
        "# load an arbitrary image mask of 512X512\n",
        "arbitrary_mask = load_image(\"https://i.imgur.com/X4yzBR7.png\")"
      ],
      "metadata": {
        "id": "VU86dVamAA-L"
      },
      "execution_count": null,
      "outputs": []
    },
    {
      "cell_type": "code",
      "source": [
        "pipeline.to(\"cpu\")\n",
        "del pipeline\n",
        "torch.cuda.empty_cache()"
      ],
      "metadata": {
        "id": "x019uwK-A9i_"
      },
      "execution_count": null,
      "outputs": []
    },
    {
      "cell_type": "code",
      "source": [
        "model_id = \"kandinsky-community/kandinsky-2-2-decoder-inpaint\"\n",
        "pipeline = AutoPipelineForInpainting.from_pretrained(\n",
        "    model_id, torch_dtype=torch.float16\n",
        ")\n",
        "\n",
        "prompt = \"concept art of magical spells, swirls, abstract, illustrated, highly detailed, 8K \"\n",
        "image = pipeline(prompt=prompt,\n",
        "                 image=text2image,\n",
        "                 mask_image=arbitrary_mask).images[0]\n",
        "make_image_grid([text2image, mask_image, image], rows=1, cols=3)"
      ],
      "metadata": {
        "id": "zaEfgpho_LYK"
      },
      "execution_count": null,
      "outputs": []
    },
    {
      "cell_type": "code",
      "source": [
        "pipeline.to(\"cpu\")\n",
        "del pipeline\n",
        "torch.cuda.empty_cache()"
      ],
      "metadata": {
        "id": "4VBDDONWA_eL"
      },
      "execution_count": null,
      "outputs": []
    },
    {
      "cell_type": "markdown",
      "source": [
        "#### Inpainting to Image2Image"
      ],
      "metadata": {
        "id": "3mS_liSnBejr"
      }
    },
    {
      "cell_type": "code",
      "source": [
        "model_id = \"runwayml/stable-diffusion-inpainting\"\n",
        "pipeline = AutoPipelineForInpainting.from_pretrained(\n",
        "    model_id, torch_dtype=torch.float16, variant=\"fp16\"\n",
        ")"
      ],
      "metadata": {
        "id": "x1bsNdE6Bd08"
      },
      "execution_count": null,
      "outputs": []
    },
    {
      "cell_type": "code",
      "source": [
        "prompt = \"concept art digital painting of an elven castle, inspired by lord of the rings, highly detailed, 8k\"\n",
        "negative_prompt = \"\""
      ],
      "metadata": {
        "id": "L36HDLr6BmKG"
      },
      "execution_count": null,
      "outputs": []
    },
    {
      "cell_type": "code",
      "source": [
        "image_inpainting = pipeline(prompt=prompt,\n",
        "                            negative_prompt=negative_prompt,\n",
        "                            image=init_image,\n",
        "                            mask_image=mask_image).images[0]\n",
        "\n",
        "# resize image to 1024x1024 for SDXL\n",
        "image_inpainting = image_inpainting.resize((1024, 1024))"
      ],
      "metadata": {
        "id": "UPUa5_mzBCyA"
      },
      "execution_count": null,
      "outputs": []
    },
    {
      "cell_type": "code",
      "source": [
        "pipeline.to(\"cpu\")\n",
        "del pipeline\n",
        "torch.cuda.empty_cache()"
      ],
      "metadata": {
        "id": "79c_uZlnB52b"
      },
      "execution_count": null,
      "outputs": []
    },
    {
      "cell_type": "code",
      "source": [
        "model_id = \"stabilityai/stable-diffusion-xl-refiner-1.0\"\n",
        "pipeline = AutoPipelineForInpainting.from_pretrained(\n",
        "    model_id, torch_dtype=torch.float16, variant=\"fp16\"\n",
        ")"
      ],
      "metadata": {
        "id": "yQp9_C53Bo7g"
      },
      "execution_count": null,
      "outputs": []
    },
    {
      "cell_type": "code",
      "source": [
        "image = pipeline(prompt=prompt,\n",
        "                 image=image_inpainting,\n",
        "                 mask_image=mask_image,\n",
        "                 output_type=\"latent\").images[0]"
      ],
      "metadata": {
        "id": "pTWWyDv6ByjK"
      },
      "execution_count": null,
      "outputs": []
    },
    {
      "cell_type": "code",
      "source": [
        "pipeline = AutoPipelineForImage2Image.from_pipe(pipeline)\n",
        "\n",
        "image = pipeline(prompt=prompt, image=image).images[0]\n",
        "make_image_grid([init_image, mask_image, image_inpainting, image], rows=2, cols=2)"
      ],
      "metadata": {
        "id": "HA21xD6uCCW5"
      },
      "execution_count": null,
      "outputs": []
    },
    {
      "cell_type": "code",
      "source": [
        "pipeline.to(\"cpu\")\n",
        "del pipeline\n",
        "torch.cuda.empty_cache()"
      ],
      "metadata": {
        "id": "kR5rrXS7B7AE"
      },
      "execution_count": null,
      "outputs": []
    },
    {
      "cell_type": "markdown",
      "source": [
        "### Controlling Image Generation\n",
        "\n",
        "\n",
        "- ControlNet\n"
      ],
      "metadata": {
        "id": "iCMTPFeJCUg_"
      }
    },
    {
      "cell_type": "code",
      "source": [
        "controlnet_model_id = \"lllyasviel/control_v11p_sd15_inpaint\"\n",
        "sd_model_id = \"runwayml/stable-diffusion-inpainting\"\n",
        "\n",
        "# load ControlNet\n",
        "controlnet = ControlNetModel.from_pretrained(controlnet_model_id,\n",
        "                                             torch_dtype=torch.float16,\n",
        "                                             variant=\"fp16\").to(device)\n",
        "\n",
        "# pass ControlNet to the pipeline\n",
        "pipeline = StableDiffusionControlNetInpaintPipeline.from_pretrained(\n",
        "    sd_model_id,\n",
        "    controlnet=controlnet,\n",
        "    torch_dtype=torch.float16,\n",
        "    variant=\"fp16\"\n",
        ").to(device)\n"
      ],
      "metadata": {
        "id": "QO7iDrcKCmNF"
      },
      "execution_count": null,
      "outputs": []
    },
    {
      "cell_type": "code",
      "source": [
        "# prepare control image\n",
        "def make_inpaint_condition(init_image, mask_image):\n",
        "    init_image = np.array(init_image.convert(\"RGB\")).astype(np.float32) / 255.0\n",
        "    mask_image = np.array(mask_image.convert(\"L\")).astype(np.float32) / 255.0\n",
        "\n",
        "    assert init_image.shape[0:1] == mask_image.shape[0:1], \"image and image_mask must have the same image size\"\n",
        "    init_image[mask_image > 0.5] = -1.0  # set as masked pixel\n",
        "    init_image = np.expand_dims(init_image, 0).transpose(0, 3, 1, 2)\n",
        "    init_image = torch.from_numpy(init_image)\n",
        "    return init_image"
      ],
      "metadata": {
        "id": "oZycwpikD23R"
      },
      "execution_count": null,
      "outputs": []
    },
    {
      "cell_type": "code",
      "source": [
        "control_image = make_inpaint_condition(init_image, mask_image)\n",
        "control_image"
      ],
      "metadata": {
        "id": "N9s3_raqD32P"
      },
      "execution_count": null,
      "outputs": []
    },
    {
      "cell_type": "code",
      "source": [
        "prompt = \"concept art of a small haunted cottage in the middle of a wheatfield, stephen king, horror, sinister, 8k\"\n",
        "image = pipeline(prompt=prompt, image=init_image, mask_image=mask_image, control_image=control_image).images[0]\n",
        "make_image_grid([init_image, mask_image, PIL.Image.fromarray(np.uint8(control_image[0][0])).convert('RGB'), image], rows=2, cols=2)"
      ],
      "metadata": {
        "id": "2ZaJM0fLDiAx"
      },
      "execution_count": null,
      "outputs": []
    },
    {
      "cell_type": "code",
      "source": [
        "pipeline.to(\"cpu\")\n",
        "del pipeline\n",
        "torch.cuda.empty_cache()"
      ],
      "metadata": {
        "id": "906vwCfNEReT"
      },
      "execution_count": null,
      "outputs": []
    },
    {
      "cell_type": "code",
      "source": [
        "model_id = \"stabilityai/stable-diffusion-xl-refiner-1.0\"\n",
        "pipeline = AutoPipelineForImage2Image.from_pretrained(\n",
        "    model_id, torch_dtype=torch.float16,\n",
        ")\n",
        "\n",
        "prompt = \"zack snyder style\"\n",
        "negative_prompt = \"bad architecture, deformed, disfigured, poor details\"\n",
        "\n",
        "image_elden_ring = pipeline(prompt, negative_prompt=negative_prompt, image=image).images[0]\n",
        "make_image_grid([init_image, mask_image, image, image_elden_ring], rows=2, cols=2)"
      ],
      "metadata": {
        "id": "zgl4g9MpFEm1"
      },
      "execution_count": null,
      "outputs": []
    },
    {
      "cell_type": "code",
      "source": [
        "pipeline.to(\"cpu\")\n",
        "del pipeline\n",
        "torch.cuda.empty_cache()"
      ],
      "metadata": {
        "id": "G-XHfj0LGb0A"
      },
      "execution_count": null,
      "outputs": []
    }
  ]
}
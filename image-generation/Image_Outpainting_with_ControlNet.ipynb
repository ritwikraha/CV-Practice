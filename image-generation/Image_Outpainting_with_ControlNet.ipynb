{
  "nbformat": 4,
  "nbformat_minor": 0,
  "metadata": {
    "colab": {
      "provenance": [],
      "authorship_tag": "ABX9TyN/oWRauB542pM9huEedmKj",
      "include_colab_link": true
    },
    "kernelspec": {
      "name": "python3",
      "display_name": "Python 3"
    },
    "language_info": {
      "name": "python"
    }
  },
  "cells": [
    {
      "cell_type": "markdown",
      "metadata": {
        "id": "view-in-github",
        "colab_type": "text"
      },
      "source": [
        "<a href=\"https://colab.research.google.com/github/ritwikraha/computer-needs-glasses/blob/master/image-generation/Image_Outpainting_with_ControlNet.ipynb\" target=\"_parent\"><img src=\"https://colab.research.google.com/assets/colab-badge.svg\" alt=\"Open In Colab\"/></a>"
      ]
    },
    {
      "cell_type": "markdown",
      "source": [
        "#Image Outpainting\n",
        "\n",
        "Adapted from this comment: https://github.com/huggingface/diffusers/discussions/7482"
      ],
      "metadata": {
        "id": "XOimiPBiHQDf"
      }
    },
    {
      "cell_type": "code",
      "source": [
        "!pip install diffusers -qq\n",
        "!pip install accelerate -qq"
      ],
      "metadata": {
        "id": "WDinrtkrGlap"
      },
      "execution_count": null,
      "outputs": []
    },
    {
      "cell_type": "code",
      "source": [
        "import random\n",
        "from io import BytesIO\n",
        "\n",
        "import requests\n",
        "import torch\n",
        "from PIL import Image\n",
        "\n",
        "from diffusers import (\n",
        "    AutoPipelineForImage2Image,\n",
        "    ControlNetModel,\n",
        "    DPMSolverMultistepScheduler,\n",
        "    StableDiffusionXLControlNetPipeline,\n",
        ")\n",
        "from diffusers.image_processor import IPAdapterMaskProcessor\n",
        "from diffusers.utils import load_image, logging\n",
        "from diffusers.utils.logging import set_verbosity\n"
      ],
      "metadata": {
        "id": "UtChoEBZGBc3"
      },
      "execution_count": null,
      "outputs": []
    },
    {
      "cell_type": "code",
      "source": [
        "set_verbosity(logging.ERROR)  # to not show cross_attention_kwargs..by AttnProcessor2_0 warnings"
      ],
      "metadata": {
        "id": "hwtMoZGJGDdf"
      },
      "execution_count": null,
      "outputs": []
    },
    {
      "cell_type": "code",
      "source": [
        "controlnet = ControlNetModel.from_pretrained(\n",
        "    \"OzzyGT/controlnet-inpaint-dreamer-sdxl\", torch_dtype=torch.float16, variant=\"fp16\"\n",
        ")\n",
        "\n",
        "pipeline = StableDiffusionXLControlNetPipeline.from_pretrained(\n",
        "    \"RunDiffusion/Juggernaut-XL-v9\",\n",
        "    torch_dtype=torch.float16,\n",
        "    variant=\"fp16\",\n",
        "    controlnet=controlnet,\n",
        ").to(\"cuda\")\n",
        "\n",
        "pipeline.scheduler = DPMSolverMultistepScheduler.from_config(pipeline.scheduler.config)\n",
        "pipeline.scheduler.config.use_karras_sigmas = True\n",
        "\n",
        "pipeline.load_ip_adapter(\n",
        "    \"h94/IP-Adapter\",\n",
        "    subfolder=\"sdxl_models\",\n",
        "    weight_name=\"ip-adapter-plus_sdxl_vit-h.safetensors\",\n",
        "    image_encoder_folder=\"models/image_encoder\",\n",
        ")\n",
        "pipeline.set_ip_adapter_scale(0.4)"
      ],
      "metadata": {
        "id": "tEZmnQctGSBi"
      },
      "execution_count": null,
      "outputs": []
    },
    {
      "cell_type": "code",
      "source": [
        "ip_wolf_image = load_image(\n",
        "    \"https://huggingface.co/datasets/OzzyGT/testing-resources/resolve/main/outpainting/ip_wolf_source.png?download=true\"\n",
        ")\n",
        "#TODO: Change this to get the mask from SAM\n",
        "ip_mask = load_image(\n",
        "    \"https://huggingface.co/datasets/OzzyGT/testing-resources/resolve/main/outpainting/wolf_position_mask.png?download=true\"\n",
        ")\n",
        "\n",
        "processor = IPAdapterMaskProcessor()\n",
        "ip_masks = processor.preprocess(ip_mask, height=1024, width=1024)\n",
        "\n",
        "#TODO:Change this to get the ControlNet Image from a function\n",
        "response = requests.get(\n",
        "    \"https://huggingface.co/datasets/OzzyGT/testing-resources/resolve/main/outpainting/313891870-adb6dc80-2e9e-420c-bac3-f93e6de8d06b.png?download=true\"\n",
        ")\n",
        "control_image = Image.open(BytesIO(response.content))\n",
        "new_controlnet_image = Image.new(\"RGBA\", control_image.size, \"WHITE\")\n",
        "new_controlnet_image.alpha_composite(control_image)\n",
        "\n",
        "prompt = \"high quality photo of a wolf playing basketball, highly detailed, professional, dramatic ambient light, cinematic, dynamic background, focus\"\n",
        "negative_prompt = \"\""
      ],
      "metadata": {
        "id": "4FI_Hu-WGU2Q"
      },
      "execution_count": null,
      "outputs": []
    },
    {
      "cell_type": "code",
      "source": [
        "seed = random.randint(0, 2**32 - 1)\n",
        "generator = torch.Generator(device=\"cpu\").manual_seed(seed)\n",
        "\n",
        "latents = pipeline(\n",
        "    prompt=prompt,\n",
        "    negative_prompt=negative_prompt,\n",
        "    height=1024,\n",
        "    width=1024,\n",
        "    guidance_scale=6.5,\n",
        "    num_inference_steps=25,\n",
        "    generator=generator,\n",
        "    image=new_controlnet_image,\n",
        "    controlnet_conditioning_scale=0.9,\n",
        "    control_guidance_end=0.9,\n",
        "    ip_adapter_image=ip_wolf_image,\n",
        "    cross_attention_kwargs={\"ip_adapter_masks\": ip_masks},\n",
        "    output_type=\"latent\",\n",
        ").images[0]"
      ],
      "metadata": {
        "id": "1Rm_aqAxGac3"
      },
      "execution_count": null,
      "outputs": []
    },
    {
      "cell_type": "code",
      "source": [
        "pipeline_img2img = AutoPipelineForImage2Image.from_pipe(pipeline, controlnet=None)\n",
        "\n",
        "prompt = \"cinematic film still of a wolf playing basketball, highly detailed, high budget hollywood movie, cinemascope, epic, gorgeous, film grain\"\n",
        "\n",
        "image = pipeline_img2img(\n",
        "    prompt=prompt,\n",
        "    negative_prompt=negative_prompt,\n",
        "    guidance_scale=3.0,\n",
        "    num_inference_steps=30,\n",
        "    generator=generator,\n",
        "    image=latents,\n",
        "    strength=0.2,\n",
        "    ip_adapter_image=ip_wolf_image,\n",
        "    cross_attention_kwargs={\"ip_adapter_masks\": ip_masks},\n",
        ").images[0]\n",
        "\n",
        "image.save(\"result.png\")"
      ],
      "metadata": {
        "id": "BaclRKD4Gj9Y"
      },
      "execution_count": null,
      "outputs": []
    }
  ]
}
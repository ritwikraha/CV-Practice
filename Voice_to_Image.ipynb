{
  "nbformat": 4,
  "nbformat_minor": 0,
  "metadata": {
    "colab": {
      "provenance": [],
      "gpuType": "V100",
      "authorship_tag": "ABX9TyNI0pO8g+tB09vvf+AtEZ67",
      "include_colab_link": true
    },
    "kernelspec": {
      "name": "python3",
      "display_name": "Python 3"
    },
    "language_info": {
      "name": "python"
    },
    "accelerator": "GPU"
  },
  "cells": [
    {
      "cell_type": "markdown",
      "metadata": {
        "id": "view-in-github",
        "colab_type": "text"
      },
      "source": [
        "<a href=\"https://colab.research.google.com/github/ritwikraha/CV-Practice/blob/master/Voice_to_Image.ipynb\" target=\"_parent\"><img src=\"https://colab.research.google.com/assets/colab-badge.svg\" alt=\"Open In Colab\"/></a>"
      ]
    },
    {
      "cell_type": "code",
      "execution_count": null,
      "metadata": {
        "id": "jxpzfQD22O7P"
      },
      "outputs": [],
      "source": [
        "!pip install  nemo_toolkit['all']\n",
        "!pip install -qq diffusers accelerate"
      ]
    },
    {
      "cell_type": "code",
      "source": [
        "import nemo.collections.asr as nemo_asr\n",
        "from diffusers import AutoPipelineForText2Image\n",
        "import torch"
      ],
      "metadata": {
        "id": "I3HHKxbsA-jQ"
      },
      "execution_count": null,
      "outputs": []
    },
    {
      "cell_type": "code",
      "source": [
        "!wget https://dldata-public.s3.us-east-2.amazonaws.com/2086-149220-0033.wav\n",
        "!wget https://www.dropbox.com/scl/fi/cyzgddzt76fnaamzos3nb/ttz-e01.wav"
      ],
      "metadata": {
        "id": "01aAVwr2411W"
      },
      "execution_count": null,
      "outputs": []
    },
    {
      "cell_type": "code",
      "source": [
        "asr_model = nemo_asr.models.EncDecRNNTBPEModel.from_pretrained(model_name=\"nvidia/parakeet-tdt-1.1b\")"
      ],
      "metadata": {
        "id": "EJORmMnLLTEg"
      },
      "execution_count": null,
      "outputs": []
    },
    {
      "cell_type": "code",
      "source": [
        "\n",
        "pipeline_text2image = AutoPipelineForText2Image.from_pretrained(\n",
        "    \"stabilityai/stable-diffusion-xl-base-1.0\", torch_dtype=torch.float16, variant=\"fp16\", use_safetensors=True\n",
        ").to(\"cuda\")"
      ],
      "metadata": {
        "id": "Gyi3fVDw4M19"
      },
      "execution_count": null,
      "outputs": []
    },
    {
      "cell_type": "code",
      "source": [
        "output = asr_model.transcribe(['2086-149220-0033.wav'])"
      ],
      "metadata": {
        "id": "s3cR_lZ949r8"
      },
      "execution_count": null,
      "outputs": []
    },
    {
      "cell_type": "code",
      "source": [
        "output[0][0]"
      ],
      "metadata": {
        "id": "moOyqDGg6T_I"
      },
      "execution_count": null,
      "outputs": []
    },
    {
      "cell_type": "code",
      "source": [
        "prompt = output[0][0]\n",
        "image = pipeline_text2image(prompt=prompt).images[0]\n",
        "image"
      ],
      "metadata": {
        "id": "VoytayNsBrqv"
      },
      "execution_count": null,
      "outputs": []
    }
  ]
}
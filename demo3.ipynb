{
 "cells": [
  {
   "cell_type": "code",
   "execution_count": 1,
   "metadata": {
    "_cell_guid": "b1076dfc-b9ad-4769-8c92-a6c4dae69d19",
    "_uuid": "8f2839f25d086af736a60e9eeb907d3b93b6e0e5"
   },
   "outputs": [
    {
     "name": "stdout",
     "output_type": "stream",
     "text": [
      "['datasets']\n"
     ]
    }
   ],
   "source": [
    "# This Python 3 environment comes with many helpful analytics libraries installed\n",
    "# It is defined by the kaggle/python docker image: https://github.com/kaggle/docker-python\n",
    "# For example, here's several helpful packages to load in \n",
    "\n",
    "import numpy as np # linear algebra\n",
    "import pandas as pd # data processing, CSV file I/O (e.g. pd.read_csv)\n",
    "\n",
    "# Input data files are available in the \"../input/\" directory.\n",
    "# For example, running this (by clicking run or pressing Shift+Enter) will list all files under the input directory\n",
    "\n",
    "import os\n",
    "import cv2\n",
    "print(os.listdir(\"../input\"))\n",
    "\n",
    "# Any results you write to the current directory are saved as output."
   ]
  },
  {
   "cell_type": "code",
   "execution_count": 2,
   "metadata": {},
   "outputs": [],
   "source": [
    "\n",
    "def load_dataset(path):\n",
    "    image_data = list()\n",
    "    labels = list()\n",
    "    dirs = os.listdir(path)\n",
    "    print(\"Loading images for: \", end =\" \")\n",
    "    for Dir in dirs:\n",
    "        print(\"{} |\".format(Dir), end=\" \")\n",
    "        path_img = path+'/'+Dir\n",
    "        images = os.listdir(path_img)\n",
    "        for image in images:\n",
    "            temp_img = cv2.imread(path_img+'/'+image)\n",
    "            image_data.append(temp_img)\n",
    "            labels.append(Dir)\n",
    "    \n",
    "    image_data = np.array(image_data)\n",
    "    labels=np.array(labels)\n",
    "    return (image_data,labels)"
   ]
  },
  {
   "cell_type": "code",
   "execution_count": 3,
   "metadata": {},
   "outputs": [
    {
     "name": "stdout",
     "output_type": "stream",
     "text": [
      "Loading images for:  snowdrop | daffodil | fritillary | crocus | bluebell | windflower | coltsfoot | pansy | iris | dandelion | daisy | cowslip | lilyvalley | buttercup | sunflower | tulip | tigerlily | "
     ]
    }
   ],
   "source": [
    "path = \"../input/datasets/datasets/flowers17/images/\"\n",
    "(data,labels)=load_dataset(path)"
   ]
  },
  {
   "cell_type": "code",
   "execution_count": null,
   "metadata": {},
   "outputs": [],
   "source": []
  }
 ],
 "metadata": {
  "kernelspec": {
   "display_name": "Python 3",
   "language": "python",
   "name": "python3"
  },
  "language_info": {
   "codemirror_mode": {
    "name": "ipython",
    "version": 3
   },
   "file_extension": ".py",
   "mimetype": "text/x-python",
   "name": "python",
   "nbconvert_exporter": "python",
   "pygments_lexer": "ipython3",
   "version": "3.6.6"
  }
 },
 "nbformat": 4,
 "nbformat_minor": 1
}

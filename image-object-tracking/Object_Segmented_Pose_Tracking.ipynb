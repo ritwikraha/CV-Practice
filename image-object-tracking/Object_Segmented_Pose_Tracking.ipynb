{
  "nbformat": 4,
  "nbformat_minor": 0,
  "metadata": {
    "colab": {
      "provenance": [],
      "machine_shape": "hm",
      "gpuType": "L4",
      "authorship_tag": "ABX9TyP0s9LHar1Eq7cafdmLM9c5",
      "include_colab_link": true
    },
    "kernelspec": {
      "name": "python3",
      "display_name": "Python 3"
    },
    "language_info": {
      "name": "python"
    },
    "accelerator": "GPU"
  },
  "cells": [
    {
      "cell_type": "markdown",
      "metadata": {
        "id": "view-in-github",
        "colab_type": "text"
      },
      "source": [
        "<a href=\"https://colab.research.google.com/github/ritwikraha/computer-needs-glasses/blob/master/image-object-tracking/Object_Segmented_Pose_Tracking.ipynb\" target=\"_parent\"><img src=\"https://colab.research.google.com/assets/colab-badge.svg\" alt=\"Open In Colab\"/></a>"
      ]
    },
    {
      "cell_type": "markdown",
      "source": [
        "# Object Detection, Segmentation and Pose Estimation with YOLOv8"
      ],
      "metadata": {
        "id": "urGdZacQMmqG"
      }
    },
    {
      "cell_type": "markdown",
      "source": [
        "## Setup and Installation"
      ],
      "metadata": {
        "id": "XZnr0DrWMLfY"
      }
    },
    {
      "cell_type": "code",
      "source": [
        "!pip install -q ultralytics\n",
        "!pip install -q opencv-python-headless\n",
        "!pip install -q moviepy"
      ],
      "metadata": {
        "colab": {
          "base_uri": "https://localhost:8080/"
        },
        "id": "W_hl_hoW8Wg1",
        "outputId": "ae4044e9-ade0-405f-d20f-d873a6dbd9e8"
      },
      "execution_count": 1,
      "outputs": [
        {
          "output_type": "stream",
          "name": "stdout",
          "text": [
            "\u001b[2K     \u001b[90m━━━━━━━━━━━━━━━━━━━━━━━━━━━━━━━━━━━━━━━━\u001b[0m \u001b[32m778.8/778.8 kB\u001b[0m \u001b[31m15.0 MB/s\u001b[0m eta \u001b[36m0:00:00\u001b[0m\n",
            "\u001b[2K     \u001b[90m━━━━━━━━━━━━━━━━━━━━━━━━━━━━━━━━━━━━━━━━\u001b[0m \u001b[32m21.3/21.3 MB\u001b[0m \u001b[31m70.3 MB/s\u001b[0m eta \u001b[36m0:00:00\u001b[0m\n",
            "\u001b[?25h"
          ]
        }
      ]
    },
    {
      "cell_type": "code",
      "source": [
        "import moviepy.editor as mpy\n",
        "from google.colab import files"
      ],
      "metadata": {
        "id": "fJxksd_G8aTi"
      },
      "execution_count": 2,
      "outputs": []
    },
    {
      "cell_type": "code",
      "source": [
        "from ultralytics import SAM, YOLO\n",
        "import numpy as np\n",
        "import cv2"
      ],
      "metadata": {
        "id": "OPI_TDJ5MC85"
      },
      "execution_count": null,
      "outputs": []
    },
    {
      "cell_type": "markdown",
      "source": [
        "## Upload your video"
      ],
      "metadata": {
        "id": "pAkC4EtfMFkV"
      }
    },
    {
      "cell_type": "code",
      "source": [
        "# Upload the video file\n",
        "uploaded = files.upload()\n",
        "\n",
        "# Define the video file path\n",
        "video_path = list(uploaded.keys())[0]"
      ],
      "metadata": {
        "colab": {
          "base_uri": "https://localhost:8080/",
          "height": 74
        },
        "id": "NrMsbUuP8c4J",
        "outputId": "ce0b1576-4262-4d72-8e53-e0799feaf90c"
      },
      "execution_count": 3,
      "outputs": [
        {
          "output_type": "display_data",
          "data": {
            "text/plain": [
              "<IPython.core.display.HTML object>"
            ],
            "text/html": [
              "\n",
              "     <input type=\"file\" id=\"files-d25ded69-2dbc-426f-a2e8-54f3bcdd5a28\" name=\"files[]\" multiple disabled\n",
              "        style=\"border:none\" />\n",
              "     <output id=\"result-d25ded69-2dbc-426f-a2e8-54f3bcdd5a28\">\n",
              "      Upload widget is only available when the cell has been executed in the\n",
              "      current browser session. Please rerun this cell to enable.\n",
              "      </output>\n",
              "      <script>// Copyright 2017 Google LLC\n",
              "//\n",
              "// Licensed under the Apache License, Version 2.0 (the \"License\");\n",
              "// you may not use this file except in compliance with the License.\n",
              "// You may obtain a copy of the License at\n",
              "//\n",
              "//      http://www.apache.org/licenses/LICENSE-2.0\n",
              "//\n",
              "// Unless required by applicable law or agreed to in writing, software\n",
              "// distributed under the License is distributed on an \"AS IS\" BASIS,\n",
              "// WITHOUT WARRANTIES OR CONDITIONS OF ANY KIND, either express or implied.\n",
              "// See the License for the specific language governing permissions and\n",
              "// limitations under the License.\n",
              "\n",
              "/**\n",
              " * @fileoverview Helpers for google.colab Python module.\n",
              " */\n",
              "(function(scope) {\n",
              "function span(text, styleAttributes = {}) {\n",
              "  const element = document.createElement('span');\n",
              "  element.textContent = text;\n",
              "  for (const key of Object.keys(styleAttributes)) {\n",
              "    element.style[key] = styleAttributes[key];\n",
              "  }\n",
              "  return element;\n",
              "}\n",
              "\n",
              "// Max number of bytes which will be uploaded at a time.\n",
              "const MAX_PAYLOAD_SIZE = 100 * 1024;\n",
              "\n",
              "function _uploadFiles(inputId, outputId) {\n",
              "  const steps = uploadFilesStep(inputId, outputId);\n",
              "  const outputElement = document.getElementById(outputId);\n",
              "  // Cache steps on the outputElement to make it available for the next call\n",
              "  // to uploadFilesContinue from Python.\n",
              "  outputElement.steps = steps;\n",
              "\n",
              "  return _uploadFilesContinue(outputId);\n",
              "}\n",
              "\n",
              "// This is roughly an async generator (not supported in the browser yet),\n",
              "// where there are multiple asynchronous steps and the Python side is going\n",
              "// to poll for completion of each step.\n",
              "// This uses a Promise to block the python side on completion of each step,\n",
              "// then passes the result of the previous step as the input to the next step.\n",
              "function _uploadFilesContinue(outputId) {\n",
              "  const outputElement = document.getElementById(outputId);\n",
              "  const steps = outputElement.steps;\n",
              "\n",
              "  const next = steps.next(outputElement.lastPromiseValue);\n",
              "  return Promise.resolve(next.value.promise).then((value) => {\n",
              "    // Cache the last promise value to make it available to the next\n",
              "    // step of the generator.\n",
              "    outputElement.lastPromiseValue = value;\n",
              "    return next.value.response;\n",
              "  });\n",
              "}\n",
              "\n",
              "/**\n",
              " * Generator function which is called between each async step of the upload\n",
              " * process.\n",
              " * @param {string} inputId Element ID of the input file picker element.\n",
              " * @param {string} outputId Element ID of the output display.\n",
              " * @return {!Iterable<!Object>} Iterable of next steps.\n",
              " */\n",
              "function* uploadFilesStep(inputId, outputId) {\n",
              "  const inputElement = document.getElementById(inputId);\n",
              "  inputElement.disabled = false;\n",
              "\n",
              "  const outputElement = document.getElementById(outputId);\n",
              "  outputElement.innerHTML = '';\n",
              "\n",
              "  const pickedPromise = new Promise((resolve) => {\n",
              "    inputElement.addEventListener('change', (e) => {\n",
              "      resolve(e.target.files);\n",
              "    });\n",
              "  });\n",
              "\n",
              "  const cancel = document.createElement('button');\n",
              "  inputElement.parentElement.appendChild(cancel);\n",
              "  cancel.textContent = 'Cancel upload';\n",
              "  const cancelPromise = new Promise((resolve) => {\n",
              "    cancel.onclick = () => {\n",
              "      resolve(null);\n",
              "    };\n",
              "  });\n",
              "\n",
              "  // Wait for the user to pick the files.\n",
              "  const files = yield {\n",
              "    promise: Promise.race([pickedPromise, cancelPromise]),\n",
              "    response: {\n",
              "      action: 'starting',\n",
              "    }\n",
              "  };\n",
              "\n",
              "  cancel.remove();\n",
              "\n",
              "  // Disable the input element since further picks are not allowed.\n",
              "  inputElement.disabled = true;\n",
              "\n",
              "  if (!files) {\n",
              "    return {\n",
              "      response: {\n",
              "        action: 'complete',\n",
              "      }\n",
              "    };\n",
              "  }\n",
              "\n",
              "  for (const file of files) {\n",
              "    const li = document.createElement('li');\n",
              "    li.append(span(file.name, {fontWeight: 'bold'}));\n",
              "    li.append(span(\n",
              "        `(${file.type || 'n/a'}) - ${file.size} bytes, ` +\n",
              "        `last modified: ${\n",
              "            file.lastModifiedDate ? file.lastModifiedDate.toLocaleDateString() :\n",
              "                                    'n/a'} - `));\n",
              "    const percent = span('0% done');\n",
              "    li.appendChild(percent);\n",
              "\n",
              "    outputElement.appendChild(li);\n",
              "\n",
              "    const fileDataPromise = new Promise((resolve) => {\n",
              "      const reader = new FileReader();\n",
              "      reader.onload = (e) => {\n",
              "        resolve(e.target.result);\n",
              "      };\n",
              "      reader.readAsArrayBuffer(file);\n",
              "    });\n",
              "    // Wait for the data to be ready.\n",
              "    let fileData = yield {\n",
              "      promise: fileDataPromise,\n",
              "      response: {\n",
              "        action: 'continue',\n",
              "      }\n",
              "    };\n",
              "\n",
              "    // Use a chunked sending to avoid message size limits. See b/62115660.\n",
              "    let position = 0;\n",
              "    do {\n",
              "      const length = Math.min(fileData.byteLength - position, MAX_PAYLOAD_SIZE);\n",
              "      const chunk = new Uint8Array(fileData, position, length);\n",
              "      position += length;\n",
              "\n",
              "      const base64 = btoa(String.fromCharCode.apply(null, chunk));\n",
              "      yield {\n",
              "        response: {\n",
              "          action: 'append',\n",
              "          file: file.name,\n",
              "          data: base64,\n",
              "        },\n",
              "      };\n",
              "\n",
              "      let percentDone = fileData.byteLength === 0 ?\n",
              "          100 :\n",
              "          Math.round((position / fileData.byteLength) * 100);\n",
              "      percent.textContent = `${percentDone}% done`;\n",
              "\n",
              "    } while (position < fileData.byteLength);\n",
              "  }\n",
              "\n",
              "  // All done.\n",
              "  yield {\n",
              "    response: {\n",
              "      action: 'complete',\n",
              "    }\n",
              "  };\n",
              "}\n",
              "\n",
              "scope.google = scope.google || {};\n",
              "scope.google.colab = scope.google.colab || {};\n",
              "scope.google.colab._files = {\n",
              "  _uploadFiles,\n",
              "  _uploadFilesContinue,\n",
              "};\n",
              "})(self);\n",
              "</script> "
            ]
          },
          "metadata": {}
        },
        {
          "output_type": "stream",
          "name": "stdout",
          "text": [
            "Saving Mike Tyson Mitt Work.mp4 to Mike Tyson Mitt Work.mp4\n"
          ]
        }
      ]
    },
    {
      "cell_type": "markdown",
      "source": [
        "## Load Models"
      ],
      "metadata": {
        "id": "hHFQ7z0fMTC3"
      }
    },
    {
      "cell_type": "code",
      "source": [
        "# Initialize the YOLOv8 model for object detection\n",
        "detection_model = YOLO(\"yolov8n.pt\")  # You can use any YOLOv8 model\n",
        "sam_model = SAM(\"sam_b.pt\")\n",
        "# Initialize the YOLOv8 model for pose detection\n",
        "pose_model = YOLO(\"yolov8n-pose.pt\")"
      ],
      "metadata": {
        "id": "DkB7sM5REiVs"
      },
      "execution_count": 25,
      "outputs": []
    },
    {
      "cell_type": "markdown",
      "source": [
        "## Load the Video File"
      ],
      "metadata": {
        "id": "0MwVnTR4MV9Y"
      }
    },
    {
      "cell_type": "code",
      "source": [
        "# Open the video file\n",
        "cap = cv2.VideoCapture(video_path)\n",
        "\n",
        "# Get the video writer initialized to save the output video\n",
        "fourcc = cv2.VideoWriter_fourcc(*'XVID')\n",
        "out = cv2.VideoWriter('output.avi', fourcc, 20.0, (int(cap.get(3)), int(cap.get(4))))"
      ],
      "metadata": {
        "id": "U0_1zylXIRYh"
      },
      "execution_count": 37,
      "outputs": []
    },
    {
      "cell_type": "markdown",
      "source": [
        "## Loop for Only Pose Estimation"
      ],
      "metadata": {
        "id": "qrn-snRSL2vq"
      }
    },
    {
      "cell_type": "code",
      "source": [
        "# while(cap.isOpened()):\n",
        "#     ret, frame = cap.read()\n",
        "#     if ret:\n",
        "#         # Perform pose detection\n",
        "#         results = model(frame)\n",
        "\n",
        "#         # Extract and draw poses on the frame\n",
        "#         for result in results:\n",
        "#             annotated_frame = result.plot()\n",
        "\n",
        "#         # Write the frame into the output video\n",
        "#         out.write(annotated_frame)\n",
        "#     else:\n",
        "#         break\n",
        "\n",
        "# # Release the video capture and writer objects\n",
        "# cap.release()\n",
        "# out.release()"
      ],
      "metadata": {
        "id": "joafsQ5G8oqG"
      },
      "execution_count": null,
      "outputs": []
    },
    {
      "cell_type": "markdown",
      "source": [
        "## Loop for Detection + Segmentation + Pose Detection"
      ],
      "metadata": {
        "id": "AMqYvqS-Madn"
      }
    },
    {
      "cell_type": "code",
      "source": [
        "while(cap.isOpened()):\n",
        "    ret, frame = cap.read()\n",
        "    if ret:\n",
        "        # Detect bounding boxes of persons\n",
        "        detection_results = detection_model(frame)\n",
        "\n",
        "        # Extract bounding box of the first person detected\n",
        "        # Failing for multi-view\n",
        "        # TODO-Ritwik: implement an id-tracker\n",
        "        person_bbox = None\n",
        "        for result in detection_results:\n",
        "            for i, bbox in enumerate(result.boxes.xyxy):\n",
        "                if result.names[int(result.boxes.cls[i])] == \"person\":\n",
        "                    person_bbox = bbox.cpu().numpy().tolist()\n",
        "                    break\n",
        "            if person_bbox:\n",
        "                break\n",
        "\n",
        "        if person_bbox:\n",
        "            # Segment the person using SAM model with the detected bounding box\n",
        "            x1, y1, x2, y2 = map(int, person_bbox)\n",
        "            mask_results = sam_model(frame, bboxes=[[x1, y1, x2, y2]])\n",
        "\n",
        "            # Debug: print structure of mask_results\n",
        "            print(\"mask_results structure:\", mask_results)\n",
        "\n",
        "            # Extract the mask\n",
        "            mask = mask_results[0].masks.data[0].cpu().numpy()\n",
        "\n",
        "            # Apply mask to the frame\n",
        "            segmented_frame = cv2.bitwise_and(frame, frame, mask=mask.astype(np.uint8))\n",
        "\n",
        "            # Step 4: Run pose detection on the segmented person\n",
        "            pose_results = pose_model(segmented_frame)\n",
        "\n",
        "            # Extract and draw poses on the frame\n",
        "            for result in pose_results:\n",
        "                annotated_frame = result.plot()\n",
        "\n",
        "            # Write the frame into the output video\n",
        "            out.write(annotated_frame)\n",
        "        else:\n",
        "            # If no person is detected, write the original frame (optimise later)\n",
        "            out.write(frame)\n",
        "    else:\n",
        "        break\n",
        "\n",
        "# Release the video capture and writer objects\n",
        "cap.release()\n",
        "out.release()"
      ],
      "metadata": {
        "id": "EyGT_Z4GEo2n"
      },
      "execution_count": null,
      "outputs": []
    },
    {
      "cell_type": "code",
      "source": [
        "# Display the processed video\n",
        "output_video_path = 'output.avi'\n",
        "\n",
        "# Convert the video to MP4 format to display in Colab\n",
        "clip = mpy.VideoFileClip(output_video_path)\n",
        "clip.write_videofile(\"output-detected.mp4\")"
      ],
      "metadata": {
        "colab": {
          "base_uri": "https://localhost:8080/"
        },
        "id": "2Xmw7xodFMwl",
        "outputId": "d84e14ba-073e-411b-e292-651b5d9b5903"
      },
      "execution_count": 48,
      "outputs": [
        {
          "output_type": "stream",
          "name": "stdout",
          "text": [
            "Moviepy - Building video output-new.mp4.\n",
            "Moviepy - Writing video output-new.mp4\n",
            "\n"
          ]
        },
        {
          "output_type": "stream",
          "name": "stderr",
          "text": []
        },
        {
          "output_type": "stream",
          "name": "stdout",
          "text": [
            "Moviepy - Done !\n",
            "Moviepy - video ready output-new.mp4\n"
          ]
        }
      ]
    }
  ]
}
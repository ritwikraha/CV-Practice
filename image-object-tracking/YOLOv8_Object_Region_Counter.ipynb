{
  "nbformat": 4,
  "nbformat_minor": 0,
  "metadata": {
    "colab": {
      "provenance": [],
      "authorship_tag": "ABX9TyNc4upO8I/507hOHi0UEOmo",
      "include_colab_link": true
    },
    "kernelspec": {
      "name": "python3",
      "display_name": "Python 3"
    },
    "language_info": {
      "name": "python"
    }
  },
  "cells": [
    {
      "cell_type": "markdown",
      "metadata": {
        "id": "view-in-github",
        "colab_type": "text"
      },
      "source": [
        "<a href=\"https://colab.research.google.com/github/ritwikraha/computer-needs-glasses/blob/master/image-object-tracking/YOLOv8_Object_Region_Counter.ipynb\" target=\"_parent\"><img src=\"https://colab.research.google.com/assets/colab-badge.svg\" alt=\"Open In Colab\"/></a>"
      ]
    },
    {
      "cell_type": "code",
      "source": [
        "import torch\n",
        "from ultralytics import YOLO\n",
        "import cv2\n",
        "import numpy as np\n",
        "from google.colab import files\n",
        "from google.colab.patches import cv2_imshow\n",
        "import ipywidgets as widgets\n",
        "from IPython.display import display"
      ],
      "metadata": {
        "id": "AU8-w-FiwVJQ"
      },
      "execution_count": null,
      "outputs": []
    },
    {
      "cell_type": "code",
      "source": [
        "# Load YOLOv8 model\n",
        "model = YOLO('yolov8n.pt')"
      ],
      "metadata": {
        "id": "rW_MrDtiwWWU"
      },
      "execution_count": null,
      "outputs": []
    },
    {
      "cell_type": "code",
      "source": [
        "# Function to get user input\n",
        "def get_user_input():\n",
        "    object_name = input(\"Enter the object name to count: \")\n",
        "    x_min = int(input(\"Enter x_min of the region: \"))\n",
        "    y_min = int(input(\"Enter y_min of the region: \"))\n",
        "    x_max = int(input(\"Enter x_max of the region: \"))\n",
        "    y_max = int(input(\"Enter y_max of the region: \"))\n",
        "    return object_name, (x_min, y_min, x_max, y_max)\n",
        "\n",
        "# Function to count objects in region\n",
        "def count_objects_in_region(results, object_name, region):\n",
        "    count = 0\n",
        "    for r in results:\n",
        "        boxes = r.boxes.xyxy.cpu().numpy()\n",
        "        classes = r.boxes.cls.cpu().numpy()\n",
        "\n",
        "        for box, cls in zip(boxes, classes):\n",
        "            if (model.names[int(cls)] == object_name and\n",
        "                box[0] >= region[0] and box[1] >= region[1] and\n",
        "                box[2] <= region[2] and box[3] <= region[3]):\n",
        "                count += 1\n",
        "    return count"
      ],
      "metadata": {
        "id": "kot-BtsBwZxC"
      },
      "execution_count": null,
      "outputs": []
    },
    {
      "cell_type": "code",
      "execution_count": null,
      "metadata": {
        "id": "2G0093Niut45"
      },
      "outputs": [],
      "source": [
        "# Main function\n",
        "def main():\n",
        "    # Get user input\n",
        "    object_name, region = get_user_input()\n",
        "\n",
        "    # Upload image\n",
        "    uploaded = files.upload()\n",
        "    img_path = list(uploaded.keys())[0]\n",
        "\n",
        "    # Read image\n",
        "    img = cv2.imread(img_path)\n",
        "\n",
        "    # Run YOLOv8 inference\n",
        "    results = model(img)\n",
        "\n",
        "    # Count objects in region\n",
        "    count = count_objects_in_region(results, object_name, region)\n",
        "\n",
        "    # Draw region on image\n",
        "    cv2.rectangle(img, (region[0], region[1]), (region[2], region[3]), (0, 255, 0), 2)\n",
        "\n",
        "    # Add count text\n",
        "    cv2.putText(img, f\"{object_name} count: {count}\", (10, 30),\n",
        "                cv2.FONT_HERSHEY_SIMPLEX, 1, (0, 255, 0), 2)\n",
        "\n",
        "    # Display result\n",
        "    cv2_imshow(img)\n",
        "\n",
        "# Run the main function\n",
        "main()"
      ]
    }
  ]
}
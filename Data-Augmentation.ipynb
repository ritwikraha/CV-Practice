{
 "cells": [
  {
   "cell_type": "markdown",
   "metadata": {},
   "source": [
    "# Data Augmentation #\n",
    "- - - - \n",
    "Data augmentation encompasses a wide range of techniques used to generate new training samples\n",
    "from the original ones by applying random jitters and perturbations such that the classes labels are\n",
    "not changed.Our goal when applying data augmentation is to increase the generalizability of the\n",
    "model. Given that our network is constantly seeing new, slightly modified versions of the input data\n",
    "points, it’s able to learn more robust features. At testing time, we do not apply data augmentation\n",
    "and evaluate our trained network – in most cases, you’ll see an increase in testing accuracy, perhaps\n",
    "at the expense at a slight dip in training accuracy.\n",
    "- - - - \n",
    "![Me and the Boys](graphs/graph_1.png)\n",
    "In the context of computer vision, data augmentation lends itself naturally. For example, we\n",
    "can obtain additional training data from the original images by apply simple geometric transforms\n",
    "such as random:\n",
    "* Translations\n",
    "* Rotations\n",
    "* Changes in scale\n",
    "* Horizontal flips\n",
    "* Baically open photoshop and try out everything after pressing ctrl+t\n",
    "![Me and the Boys](memes/meme_1.jpg)\n"
   ]
  },
  {
   "cell_type": "code",
   "execution_count": 15,
   "metadata": {},
   "outputs": [],
   "source": []
  },
  {
   "cell_type": "code",
   "execution_count": null,
   "metadata": {},
   "outputs": [],
   "source": []
  }
 ],
 "metadata": {
  "kernelspec": {
   "display_name": "Python 3",
   "language": "python",
   "name": "python3"
  },
  "language_info": {
   "codemirror_mode": {
    "name": "ipython",
    "version": 3
   },
   "file_extension": ".py",
   "mimetype": "text/x-python",
   "name": "python",
   "nbconvert_exporter": "python",
   "pygments_lexer": "ipython3",
   "version": "3.6.7"
  }
 },
 "nbformat": 4,
 "nbformat_minor": 2
}
